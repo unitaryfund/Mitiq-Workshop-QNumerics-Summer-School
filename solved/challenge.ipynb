{
 "cells": [
  {
   "cell_type": "code",
   "execution_count": 1,
   "metadata": {},
   "outputs": [],
   "source": [
    "import mitiq"
   ]
  },
  {
   "cell_type": "markdown",
   "metadata": {},
   "source": [
    "## Challenge 1: define a benchmarking circuit\n",
    "\n",
    "Create a Clifford+T circuit\n"
   ]
  },
  {
   "cell_type": "code",
   "execution_count": 2,
   "metadata": {},
   "outputs": [
    {
     "name": "stdout",
     "output_type": "stream",
     "text": [
      "                  ┌──┐\n",
      "0: ───@───S───S────H─────T───S───@───S───@───\n",
      "      │                          │       │\n",
      "1: ───┼───────X────@─────────────@───────┼───\n",
      "      │       │    │                     │\n",
      "2: ───@───S───@────┼H────────────────────@───\n",
      "                   │\n",
      "3: ───H───T────────X─────T───────────────────\n",
      "                  └──┘\n"
     ]
    }
   ],
   "source": [
    "ct = mitiq.benchmarks.generate_random_clifford_t_circuit(4, 8, 5, 3)\n",
    "print(ct)"
   ]
  },
  {
   "cell_type": "markdown",
   "metadata": {},
   "source": [
    "## Challenge 2: convert the ciruit to qiskit\n",
    "\n",
    "By default, benchmarking circuits are instantiated as `cirq.Circuit` objects. Convert the circuit to a `qiskit.QuantumCircuit` object.\n"
   ]
  },
  {
   "cell_type": "code",
   "execution_count": 5,
   "metadata": {},
   "outputs": [
    {
     "name": "stdout",
     "output_type": "stream",
     "text": [
      "          ┌───┐┌───┐┌───┐┌───┐┌───┐   ┌───┐   \n",
      "q_0: ──■──┤ S ├┤ S ├┤ H ├┤ T ├┤ S ├─■─┤ S ├─■─\n",
      "       │  └───┘├───┤└───┘└───┘└───┘ │ └───┘ │ \n",
      "q_1: ──┼───────┤ X ├──■─────────────■───────┼─\n",
      "       │  ┌───┐└─┬─┘  │  ┌───┐              │ \n",
      "q_2: ──■──┤ S ├──■────┼──┤ H ├──────────────■─\n",
      "     ┌───┐├───┤     ┌─┴─┐├───┤                \n",
      "q_3: ┤ H ├┤ T ├─────┤ X ├┤ T ├────────────────\n",
      "     └───┘└───┘     └───┘└───┘                \n"
     ]
    }
   ],
   "source": [
    "qiskit_ct = mitiq.interface.convert_from_mitiq(ct, \"qiskit\")\n",
    "print(qiskit_ct)"
   ]
  },
  {
   "cell_type": "markdown",
   "metadata": {},
   "source": [
    "## Challenge 3: define a pauli string\n"
   ]
  },
  {
   "cell_type": "code",
   "execution_count": 9,
   "metadata": {},
   "outputs": [
    {
     "name": "stdout",
     "output_type": "stream",
     "text": [
      "Y(q(1))\n"
     ]
    }
   ],
   "source": [
    "ps = mitiq.PauliString(\"IY\")\n",
    "print(ps)"
   ]
  },
  {
   "cell_type": "markdown",
   "metadata": {},
   "source": [
    "## Challenge 4: define simultaneously measurable pauli strings\n",
    "\n",
    "Define a pauli string that can be measured simultaneously with the above `PauliString` object.\n"
   ]
  },
  {
   "cell_type": "code",
   "execution_count": 11,
   "metadata": {},
   "outputs": [
    {
     "data": {
      "text/plain": [
       "True"
      ]
     },
     "execution_count": 11,
     "metadata": {},
     "output_type": "execute_result"
    }
   ],
   "source": [
    "ps2 = mitiq.PauliString(\"XII\")\n",
    "\n",
    "ps.can_be_measured_with(ps2)"
   ]
  },
  {
   "cell_type": "markdown",
   "metadata": {},
   "source": [
    "## Challenge 5: find the pauli string with a specific matrix\n",
    "\n",
    "What pauli string defines the following matrix\n",
    "\n",
    "$$\n",
    "\\begin{bmatrix}\n",
    "    0 & 0  & 0 & -i \\\\\n",
    "    0 & 0  & i & 0  \\\\\n",
    "    0 & -i & 0 & 0  \\\\\n",
    "    i & 0  & 0 & 0  \\\\\n",
    "\\end{bmatrix}\n",
    "$$\n"
   ]
  },
  {
   "cell_type": "code",
   "execution_count": 17,
   "metadata": {},
   "outputs": [
    {
     "data": {
      "text/plain": [
       "array([[0.+0.j, 0.+0.j, 0.+0.j, 0.-1.j],\n",
       "       [0.+0.j, 0.+0.j, 0.+1.j, 0.+0.j],\n",
       "       [0.+0.j, 0.-1.j, 0.+0.j, 0.+0.j],\n",
       "       [0.+1.j, 0.+0.j, 0.+0.j, 0.+0.j]])"
      ]
     },
     "execution_count": 17,
     "metadata": {},
     "output_type": "execute_result"
    }
   ],
   "source": [
    "ps = mitiq.PauliString(\"XY\")\n",
    "ps.matrix()"
   ]
  },
  {
   "cell_type": "markdown",
   "metadata": {},
   "source": [
    "## Challenge 6: measure pauli strings in a circuit\n",
    "\n",
    "using the clifford+T circuit defined in challenge 1, measure two pauli strings in it.\n"
   ]
  },
  {
   "cell_type": "code",
   "execution_count": 20,
   "metadata": {},
   "outputs": [
    {
     "data": {
      "text/plain": [
       "[                  ┌──┐\n",
       "0: ───@───S───S────H─────T───S───@───S───────@───X^0.5────M───\n",
       "      │                          │           │            │\n",
       "1: ───┼───────X────@─────────────@───X^0.5───┼────────────M───\n",
       "      │       │    │                         │            │\n",
       "2: ───@───S───@────┼H────────────────────────@───Y^-0.5───M───\n",
       "                   │\n",
       "3: ───H───T────────X─────T────────────────────────────────────\n",
       "                  └──┘,\n",
       "                   ┌──┐\n",
       "0: ───@───S───S────H─────T───S───@───S───@───Y^-0.5───M───\n",
       "      │                          │       │            │\n",
       "1: ───┼───────X────@─────────────@───────┼────────────┼───\n",
       "      │       │    │                     │            │\n",
       "2: ───@───S───@────┼H────────────────────@────────────M───\n",
       "                   │\n",
       "3: ───H───T────────X─────T────────────────────────────────\n",
       "                  └──┘]"
      ]
     },
     "execution_count": 20,
     "metadata": {},
     "output_type": "execute_result"
    }
   ],
   "source": [
    "paulis = [mitiq.PauliString(\"XIZI\"), mitiq.PauliString(\"YYXI\")]\n",
    "\n",
    "obs = mitiq.Observable(*paulis)\n",
    "\n",
    "obs.measure_in(ct)"
   ]
  },
  {
   "cell_type": "markdown",
   "metadata": {},
   "source": [
    "## Challenge 7: measure pauli strings in a circuit simultaneously\n",
    "\n",
    "Define two pauli strings that can be simultaneously measured.\n"
   ]
  },
  {
   "cell_type": "code",
   "execution_count": 21,
   "metadata": {},
   "outputs": [
    {
     "data": {
      "text/plain": [
       "[                  ┌──┐\n",
       "0: ───@───S───S────H─────T───S───────@───S────────@───Y^-0.5───M───\n",
       "      │                              │            │            │\n",
       "1: ───┼───────X────@─────────────────@───Y^-0.5───┼────────────M───\n",
       "      │       │    │                              │            │\n",
       "2: ───@───S───@────┼H─────────────────────────────@────────────M───\n",
       "                   │                                           │\n",
       "3: ───H───T────────X─────T───X^0.5─────────────────────────────M───\n",
       "                  └──┘]"
      ]
     },
     "execution_count": 21,
     "metadata": {},
     "output_type": "execute_result"
    }
   ],
   "source": [
    "paulis = [mitiq.PauliString(\"XIZI\"), mitiq.PauliString(\"IXIY\")]\n",
    "\n",
    "obs = mitiq.Observable(*paulis)\n",
    "\n",
    "obs.measure_in(ct)"
   ]
  },
  {
   "cell_type": "markdown",
   "metadata": {},
   "source": [
    "## Challenge 8: create a `MeasurementResult` object\n",
    "\n",
    "You've run an experiment, and received the following dictionary back with the counts. Convert it to a `mitiq.MeasurementResult` object.\n",
    "\n",
    "```py\n",
    "{\n",
    "    \"0001\": 435,\n",
    "    \"0010\": 324,\n",
    "    \"0100\": 120,\n",
    "    \"1001\": 70,\n",
    "    \"0110\": 51\n",
    "}\n",
    "```\n"
   ]
  },
  {
   "cell_type": "code",
   "execution_count": 28,
   "metadata": {},
   "outputs": [],
   "source": [
    "bitstring_counts = {\n",
    "    \"0001\": 70,\n",
    "    \"0010\": 51,\n",
    "    \"0100\": 68,\n",
    "    \"1001\": 437,\n",
    "    \"0110\": 374\n",
    "}\n",
    "mr = mitiq.MeasurementResult.from_counts(bitstring_counts)"
   ]
  },
  {
   "cell_type": "markdown",
   "metadata": {},
   "source": [
    "## Challenge 9: convert counts to a probability distribution\n",
    "\n",
    "instead of a dictionary mapping bitstrings to counts, create a dictionary mapping bitstrings to probabilities of measuring said bitstring. Test your answer by comparing to the `prob_distribution` method of your `MeasurementResult` object.\n"
   ]
  },
  {
   "cell_type": "code",
   "execution_count": 29,
   "metadata": {},
   "outputs": [
    {
     "data": {
      "text/plain": [
       "True"
      ]
     },
     "execution_count": 29,
     "metadata": {},
     "output_type": "execute_result"
    }
   ],
   "source": [
    "total_count = sum(bitstring_counts.values())\n",
    "prob = {bits: count / total_count for bits, count in bitstring_counts.items()}\n",
    "\n",
    "prob == mr.prob_distribution()"
   ]
  },
  {
   "cell_type": "markdown",
   "metadata": {},
   "source": [
    "## Challenge 10: Post selecting with a symmetry condition\n",
    "\n",
    "Select (programatically) bitstrings which are palindromes.\n"
   ]
  },
  {
   "cell_type": "code",
   "execution_count": 35,
   "metadata": {},
   "outputs": [],
   "source": [
    "from mitiq.rem import post_select # can remove\n",
    "\n",
    "nmr = post_select(mr, lambda bitstring: bitstring == bitstring[::-1])"
   ]
  },
  {
   "cell_type": "markdown",
   "metadata": {},
   "source": [
    "## Challenge 11: total variation distance\n",
    "\n",
    "Compute the [total variation distance](https://en.wikipedia.org/wiki/Total_variation_distance_of_probability_measures) between the pre and post-selected measurement results.\n"
   ]
  },
  {
   "cell_type": "code",
   "execution_count": 42,
   "metadata": {},
   "outputs": [
    {
     "name": "stdout",
     "output_type": "stream",
     "text": [
      "0.18900000000000003\n"
     ]
    }
   ],
   "source": [
    "import itertools\n",
    "\n",
    "def generate_bitstrings(length):\n",
    "    return [''.join(bits) for bits in itertools.product('01', repeat=length)]\n",
    "\n",
    "pre_dist = mr.prob_distribution()\n",
    "post_dist = nmr.prob_distribution()\n",
    "\n",
    "tvd = 0\n",
    "for bitstring in generate_bitstrings(4):\n",
    "    tvd += abs(pre_dist.get(bitstring, 0) - post_dist.get(bitstring, 0))\n",
    "\n",
    "tvd /= 2\n",
    "\n",
    "print(tvd)"
   ]
  },
  {
   "cell_type": "markdown",
   "metadata": {},
   "source": [
    "## Challenge 12: global folding\n",
    "\n",
    "Fold the following circuit globally. That is, construct a new circuit whose operation is $UU^\\dag U$ where $U$ is the operation of the entire circuit.\n"
   ]
  },
  {
   "cell_type": "code",
   "execution_count": 54,
   "metadata": {},
   "outputs": [
    {
     "name": "stdout",
     "output_type": "stream",
     "text": [
      "0: ───Y─────X───@───Y^0.5───X^0.5───X^0.5────Y^-0.5───@───X^0───────────────────────\n",
      "                │                                     │\n",
      "1: ───X^0───────@───Y───────X^0.5───Y^-0.5───X^0.5────@───X^-0.5───Y^-0.5───X^0.5───\n"
     ]
    }
   ],
   "source": [
    "circuit = mitiq.benchmarks.generate_rb_circuits(2, 1)[0]\n",
    "print(circuit)"
   ]
  },
  {
   "cell_type": "code",
   "execution_count": 55,
   "metadata": {},
   "outputs": [
    {
     "data": {
      "text/html": [
       "<pre style=\"overflow: auto; white-space: pre;\">0: ───Y─────X───@───Y^0.5───X^0.5───X^0.5────Y^-0.5───@───X^0────────────────────────────────────────X^0─────@───Y^0.5────X^-0.5───X^-0.5───Y^-0.5───@───X───Y─────Y─────X───@───Y^0.5───X^0.5───X^0.5────Y^-0.5───@───X^0───────────────────────\n",
       "                │                                     │                                                      │                                       │                       │                                     │\n",
       "1: ───X^0───────@───Y───────X^0.5───Y^-0.5───X^0.5────@───X^-0.5───Y^-0.5───X^0.5───X^-0.5───Y^0.5───X^0.5───@───X^-0.5───Y^0.5────X^-0.5───Y────────@───────X^0───X^0───────@───Y───────X^0.5───Y^-0.5───X^0.5────@───X^-0.5───Y^-0.5───X^0.5───</pre>"
      ],
      "text/plain": [
       "0: ───Y─────X───@───Y^0.5───X^0.5───X^0.5────Y^-0.5───@───X^0────────────────────────────────────────X^0─────@───Y^0.5────X^-0.5───X^-0.5───Y^-0.5───@───X───Y─────Y─────X───@───Y^0.5───X^0.5───X^0.5────Y^-0.5───@───X^0───────────────────────\n",
       "                │                                     │                                                      │                                       │                       │                                     │\n",
       "1: ───X^0───────@───Y───────X^0.5───Y^-0.5───X^0.5────@───X^-0.5───Y^-0.5───X^0.5───X^-0.5───Y^0.5───X^0.5───@───X^-0.5───Y^0.5────X^-0.5───Y────────@───────X^0───X^0───────@───Y───────X^0.5───Y^-0.5───X^0.5────@───X^-0.5───Y^-0.5───X^0.5───"
      ]
     },
     "execution_count": 55,
     "metadata": {},
     "output_type": "execute_result"
    }
   ],
   "source": [
    "mitiq.zne.scaling.fold_global(circuit, scale_factor=3)"
   ]
  },
  {
   "cell_type": "markdown",
   "metadata": {},
   "source": [
    "## Challenge 13: non-integer folding\n",
    "\n",
    "Using a folding technique to increase the circuits depth by 2.\n"
   ]
  },
  {
   "cell_type": "code",
   "execution_count": 56,
   "metadata": {},
   "outputs": [
    {
     "data": {
      "text/html": [
       "<pre style=\"overflow: auto; white-space: pre;\">0: ───Y─────X─────X─────X───@───@───@───Y^0.5───Y^-0.5───Y^0.5────X^0.5───X^0.5────X^-0.5───X^0.5────Y^-0.5───Y^0.5───Y^-0.5───@───X^0────────────────────────────────────────\n",
       "                            │   │   │                                                                                          │\n",
       "1: ───X^0───X^0───X^0───────@───@───@───Y───────X^0.5────Y^-0.5───Y^0.5───Y^-0.5───X^0.5────X^-0.5───X^0.5─────────────────────@───X^-0.5───X^0.5───X^-0.5───Y^-0.5───X^0.5───</pre>"
      ],
      "text/plain": [
       "0: ───Y─────X─────X─────X───@───@───@───Y^0.5───Y^-0.5───Y^0.5────X^0.5───X^0.5────X^-0.5───X^0.5────Y^-0.5───Y^0.5───Y^-0.5───@───X^0────────────────────────────────────────\n",
       "                            │   │   │                                                                                          │\n",
       "1: ───X^0───X^0───X^0───────@───@───@───Y───────X^0.5────Y^-0.5───Y^0.5───Y^-0.5───X^0.5────X^-0.5───X^0.5─────────────────────@───X^-0.5───X^0.5───X^-0.5───Y^-0.5───X^0.5───"
      ]
     },
     "execution_count": 56,
     "metadata": {},
     "output_type": "execute_result"
    }
   ],
   "source": [
    "mitiq.zne.scaling.fold_gates_at_random(circuit, scale_factor=2)"
   ]
  },
  {
   "cell_type": "markdown",
   "metadata": {},
   "source": [
    "## Challenge 14: gate folding\n",
    "\n",
    "Suppose all your noise comes from two-qubit gates and you'd like to target them in the folding. Construct a folded circuit where you exclude single qubit gates from being folded.\n"
   ]
  },
  {
   "cell_type": "code",
   "execution_count": 59,
   "metadata": {},
   "outputs": [
    {
     "data": {
      "text/html": [
       "<pre style=\"overflow: auto; white-space: pre;\">0: ───Y─────X───@───@───@───Y^0.5───X^0.5───X^0.5────Y^-0.5───@───@───@───X^0───────────────────────\n",
       "                │   │   │                                     │   │   │\n",
       "1: ───X^0───────@───@───@───Y───────X^0.5───Y^-0.5───X^0.5────@───@───@───X^-0.5───Y^-0.5───X^0.5───</pre>"
      ],
      "text/plain": [
       "0: ───Y─────X───@───@───@───Y^0.5───X^0.5───X^0.5────Y^-0.5───@───@───@───X^0───────────────────────\n",
       "                │   │   │                                     │   │   │\n",
       "1: ───X^0───────@───@───@───Y───────X^0.5───Y^-0.5───X^0.5────@───@───@───X^-0.5───Y^-0.5───X^0.5───"
      ]
     },
     "execution_count": 59,
     "metadata": {},
     "output_type": "execute_result"
    }
   ],
   "source": [
    "mitiq.zne.scaling.fold_all(circuit, scale_factor=3, exclude={\"single\"})"
   ]
  },
  {
   "cell_type": "markdown",
   "metadata": {},
   "source": [
    "## Challenge 15: Pauli twirling\n",
    "\n",
    "Generate 100 Pauli twirled variants of a GHZ circuit on 3 qubits. How many of them are unique?\n"
   ]
  },
  {
   "cell_type": "code",
   "execution_count": 127,
   "metadata": {},
   "outputs": [
    {
     "data": {
      "text/plain": [
       "84"
      ]
     },
     "execution_count": 127,
     "metadata": {},
     "output_type": "execute_result"
    }
   ],
   "source": [
    "circuit = mitiq.benchmarks.generate_ghz_circuit(3)\n",
    "\n",
    "from mitiq.pt import generate_pauli_twirl_variants\n",
    "pts = generate_pauli_twirl_variants(circuit, 100)\n",
    "\n",
    "len(set(map(str, pts)))"
   ]
  },
  {
   "cell_type": "markdown",
   "metadata": {},
   "source": [
    "## Challenge 16: Pauli twirling gates addition\n",
    "\n",
    "How many more gates do the variants contain than the original circuit?\n"
   ]
  },
  {
   "cell_type": "code",
   "execution_count": 133,
   "metadata": {},
   "outputs": [
    {
     "data": {
      "text/plain": [
       "True"
      ]
     },
     "execution_count": 133,
     "metadata": {},
     "output_type": "execute_result"
    }
   ],
   "source": [
    "num_gates = [len(list(c.all_operations())) for c in pts]\n",
    "\n",
    "all(g == 11 for g in num_gates)"
   ]
  },
  {
   "cell_type": "markdown",
   "metadata": {},
   "source": [
    "## Challenge 17: Digital dynamical decoupling: XX\n",
    "\n",
    "Insert an $XX$ sequence in a circuit (you define this).\n"
   ]
  },
  {
   "cell_type": "code",
   "execution_count": null,
   "metadata": {},
   "outputs": [],
   "source": []
  }
 ],
 "metadata": {
  "kernelspec": {
   "display_name": "Python 3",
   "language": "python",
   "name": "python3"
  },
  "language_info": {
   "codemirror_mode": {
    "name": "ipython",
    "version": 3
   },
   "file_extension": ".py",
   "mimetype": "text/x-python",
   "name": "python",
   "nbconvert_exporter": "python",
   "pygments_lexer": "ipython3",
   "version": "3.11.9"
  }
 },
 "nbformat": 4,
 "nbformat_minor": 2
}

{
 "cells": [
  {
   "cell_type": "markdown",
   "metadata": {
    "slideshow": {
     "slide_type": "slide"
    }
   },
   "source": [
    "# Mitiq hands-on tutorial\n",
    "\n",
    "<img src=\"unitary_fund_logo.png\" width=350>"
   ]
  },
  {
   "cell_type": "code",
   "execution_count": 1,
   "metadata": {
    "slideshow": {
     "slide_type": "subslide"
    }
   },
   "outputs": [
    {
     "data": {
      "text/plain": [
       "'Install Mitiq and supported libraries.'"
      ]
     },
     "execution_count": 1,
     "metadata": {},
     "output_type": "execute_result"
    }
   ],
   "source": [
    "\"\"\"Install Mitiq and supported libraries.\"\"\"\n",
    "#!pip install mitiq\n",
    "\n",
    "#!pip install qiskit\n",
    "#!pip install pyquil"
   ]
  },
  {
   "cell_type": "code",
   "execution_count": 2,
   "metadata": {
    "scrolled": true,
    "slideshow": {
     "slide_type": "slide"
    }
   },
   "outputs": [
    {
     "name": "stdout",
     "output_type": "stream",
     "text": [
      "\n",
      "Mitiq: A Python toolkit for implementing error mitigation on quantum computers\n",
      "==============================================================================\n",
      "Authored by: Mitiq team, 2020 & later (https://github.com/unitaryfund/mitiq)\n",
      "\n",
      "Mitiq Version:\t0.1.0dev\n",
      "\n",
      "Cirq Version:\t0.9.0.dev\n",
      "NumPy Version:\t1.18.4\n",
      "SciPy Version:\t1.4.1\n",
      "PyQuil Version:\t2.21.0\n",
      "Qiskit Version:\t0.15.1\n",
      "\n",
      "Python Version:\t3.6.8\n",
      "Platform Info:\tLinux (x86_64)\n",
      "Install Path:\t/home/ryan/phd/unitary-fund/team/repos/mitiq/mitiq/mitiq\n"
     ]
    }
   ],
   "source": [
    "\"\"\"Test Mitiq installation and view version information.\"\"\"\n",
    "import mitiq\n",
    "mitiq.about()"
   ]
  },
  {
   "cell_type": "code",
   "execution_count": 3,
   "metadata": {
    "slideshow": {
     "slide_type": "fragment"
    }
   },
   "outputs": [],
   "source": [
    "\"\"\"Imports.\"\"\"\n",
    "import qiskit\n",
    "import cirq\n",
    "import pyquil\n",
    "\n",
    "from mitiq import zne"
   ]
  },
  {
   "cell_type": "markdown",
   "metadata": {
    "slideshow": {
     "slide_type": "slide"
    }
   },
   "source": [
    "# Three steps to ZNE in Mitiq"
   ]
  },
  {
   "cell_type": "markdown",
   "metadata": {
    "slideshow": {
     "slide_type": "fragment"
    }
   },
   "source": [
    "1. Define a circuit to run.\n",
    "1. Define a function which executes the circuit and returns an observable of interest.\n",
    "1. Use `zne.execute_with_zne` with these ingredients. Optionally, pick a noise scaling method and/or inference technique."
   ]
  },
  {
   "cell_type": "markdown",
   "metadata": {
    "slideshow": {
     "slide_type": "slide"
    }
   },
   "source": [
    "# Example using Qiskit and IBMQ"
   ]
  },
  {
   "cell_type": "markdown",
   "metadata": {
    "slideshow": {
     "slide_type": "slide"
    }
   },
   "source": [
    "## (1) Define a circuit to run"
   ]
  },
  {
   "cell_type": "markdown",
   "metadata": {
    "slideshow": {
     "slide_type": "fragment"
    }
   },
   "source": [
    "Below we define a simple circuit in Qiskit. Circuits can be defined in any supported frameworks: Qiskit, pyQuil, or Cirq."
   ]
  },
  {
   "cell_type": "code",
   "execution_count": 4,
   "metadata": {
    "scrolled": true,
    "slideshow": {
     "slide_type": "subslide"
    }
   },
   "outputs": [
    {
     "name": "stdout",
     "output_type": "stream",
     "text": [
      "      ┌───┐                              ┌───┐┌─┐   \n",
      "q0_0: ┤ H ├─■──■──■──■──■──■──■──■──■──■─┤ H ├┤M├───\n",
      "      ├───┤ │  │  │  │  │  │  │  │  │  │ ├───┤└╥┘┌─┐\n",
      "q0_1: ┤ H ├─■──■──■──■──■──■──■──■──■──■─┤ H ├─╫─┤M├\n",
      "      └───┘                              └───┘ ║ └╥┘\n",
      "c0: 1/═════════════════════════════════════════╩══╬═\n",
      "                                               0  ║ \n",
      "                                                  ║ \n",
      "c1: 1/════════════════════════════════════════════╩═\n",
      "                                                  0 \n"
     ]
    }
   ],
   "source": [
    "\"\"\"Simple circuit to run.\"\"\"\n",
    "def circuit(cz_depth: int = 10):\n",
    "    \"\"\"Returns a two-qubit circuit with Hadamards and CZ gates.\"\"\"\n",
    "    qreg = qiskit.QuantumRegister(2)\n",
    "    creg1, creg2 = qiskit.ClassicalRegister(1), qiskit.ClassicalRegister(1)\n",
    "    circuit = qiskit.QuantumCircuit(qreg, creg1, creg2)\n",
    "    \n",
    "    for q in qreg:\n",
    "        circuit.h(q)\n",
    "        \n",
    "    for _ in range(cz_depth):\n",
    "        circuit.cz(*qreg)\n",
    "    \n",
    "    for q, c in zip(qreg, [creg1, creg2]):\n",
    "        circuit.h(q)\n",
    "        circuit.measure(q, c)\n",
    "\n",
    "    return circuit\n",
    "\n",
    "circ = circuit(cz_depth=10)\n",
    "print(circ)"
   ]
  },
  {
   "cell_type": "markdown",
   "metadata": {
    "slideshow": {
     "slide_type": "slide"
    }
   },
   "source": [
    "## (2) Define an *executor* function"
   ]
  },
  {
   "cell_type": "markdown",
   "metadata": {
    "slideshow": {
     "slide_type": "fragment"
    }
   },
   "source": [
    "* An **executor** is a function which inputs a quantum circuit and returns an expectation value. \n",
    "* Mitiq treats this function as a black box when implementing error mitigation. \n",
    "* The function abstracts away backend information so that the interface is the same for different platforms."
   ]
  },
  {
   "cell_type": "code",
   "execution_count": 5,
   "metadata": {
    "slideshow": {
     "slide_type": "fragment"
    }
   },
   "outputs": [
    {
     "name": "stderr",
     "output_type": "stream",
     "text": [
      "/home/ryan/phd/unitary-fund/team/envs/envfreshqiskit/lib/python3.6/site-packages/qiskit/providers/ibmq/ibmqfactory.py:192: UserWarning: Timestamps in IBMQ backend properties, jobs, and job results are all now in local time instead of UTC.\n",
      "  warnings.warn('Timestamps in IBMQ backend properties, jobs, and job results '\n"
     ]
    }
   ],
   "source": [
    "\"\"\"Load IBMQ credentials.\"\"\"\n",
    "provider = qiskit.IBMQ.load_account()"
   ]
  },
  {
   "cell_type": "code",
   "execution_count": 6,
   "metadata": {
    "slideshow": {
     "slide_type": "subslide"
    }
   },
   "outputs": [],
   "source": [
    "\"\"\"IBMQ executor.\"\"\"\n",
    "def executor(circuit: qiskit.QuantumCircuit, shots: int = 8192) -> float:\n",
    "    \"\"\"Executes a circuit and returns an observable of interest.\"\"\"\n",
    "    # Execute the circuit\n",
    "    job = qiskit.execute(\n",
    "        experiments=circuit,\n",
    "        backend=provider.get_backend(\"ibmq_ourense\"),\n",
    "        optimization_level=0,  # Important for unitary folding\n",
    "        initial_layout={circuit.qregs[0][0]: 1, circuit.qregs[0][1]: 2},\n",
    "        shots=shots\n",
    "    )\n",
    "    \n",
    "    # Postprocess measurements to return an observable\n",
    "    counts = job.result().get_counts()\n",
    "    if counts.get(\"0 0\"):\n",
    "        expectation_value = counts.get(\"0 0\") / shots\n",
    "    else:\n",
    "        expectation_value = 0.0\n",
    "    print(\"Expectation value =\", round(expectation_value, 3))\n",
    "    return expectation_value"
   ]
  },
  {
   "cell_type": "markdown",
   "metadata": {
    "slideshow": {
     "slide_type": "skip"
    }
   },
   "source": [
    "*Note*: For demonstration purposes, we print out the expectation value each time the executor is called. This gives insight into how Mitiq uses the executor."
   ]
  },
  {
   "cell_type": "markdown",
   "metadata": {
    "slideshow": {
     "slide_type": "slide"
    }
   },
   "source": [
    "## (3) Use `zne.execute_with_zne`"
   ]
  },
  {
   "cell_type": "markdown",
   "metadata": {
    "slideshow": {
     "slide_type": "fragment"
    }
   },
   "source": [
    "First we run without error mitigation for comparison."
   ]
  },
  {
   "cell_type": "code",
   "execution_count": 7,
   "metadata": {
    "slideshow": {
     "slide_type": "fragment"
    }
   },
   "outputs": [
    {
     "name": "stdout",
     "output_type": "stream",
     "text": [
      "Expectation value = 0.881\n",
      "\n",
      "Unmitigated expectation value: 0.881\n"
     ]
    }
   ],
   "source": [
    "\"\"\"Run without error mitigation.\"\"\"\n",
    "unmitigated = executor(circ)\n",
    "print(\"\\nUnmitigated expectation value:\", round(unmitigated, 3))"
   ]
  },
  {
   "cell_type": "markdown",
   "metadata": {
    "slideshow": {
     "slide_type": "subslide"
    }
   },
   "source": [
    "Now we use zero-noise extrapolation."
   ]
  },
  {
   "cell_type": "code",
   "execution_count": 8,
   "metadata": {
    "slideshow": {
     "slide_type": "fragment"
    }
   },
   "outputs": [
    {
     "name": "stdout",
     "output_type": "stream",
     "text": [
      "Expectation value = 0.874\n",
      "Expectation value = 0.873\n",
      "Expectation value = 0.881\n",
      "Expectation value = 0.724\n",
      "Expectation value = 0.747\n",
      "Expectation value = 0.733\n",
      "Expectation value = 0.603\n",
      "Expectation value = 0.596\n",
      "Expectation value = 0.585\n",
      "\n",
      "Mitigated expectation value: 1.019\n"
     ]
    }
   ],
   "source": [
    "\"\"\"Run with zero-noise extrapolation.\"\"\"\n",
    "mitigated = zne.execute_with_zne(\n",
    "    circ,\n",
    "    executor,\n",
    "    scale_noise=zne.scaling.fold_gates_at_random,\n",
    "    num_to_average=3,\n",
    "    factory=zne.inference.RichardsonFactory(scale_factors=[1.0, 2.0, 3.0])\n",
    ")\n",
    "print(\"\\nMitigated expectation value:\", round(mitigated, 3))"
   ]
  },
  {
   "cell_type": "markdown",
   "metadata": {
    "slideshow": {
     "slide_type": "skip"
    }
   },
   "source": [
    "* The optional argument `scale_noise` defines the noise scaling technique. The default value is `fold_gates_at_random`.\n",
    "* The optional argument `num_to_average` is the number of times to call the executor at the current scale factor. The default value is `1`.\n",
    "* The optional argument `factory` defines the inference technique and scale factors. The default value is `RichardsonFactory(scale_factors=[1.0, 2.0, 3.0]`). "
   ]
  },
  {
   "cell_type": "markdown",
   "metadata": {
    "slideshow": {
     "slide_type": "slide"
    }
   },
   "source": [
    "# Benchmarks in Mitiq whitepaper"
   ]
  },
  {
   "cell_type": "markdown",
   "metadata": {
    "slideshow": {
     "slide_type": "subslide"
    }
   },
   "source": [
    "# Two-qubit randomized benchmarking circuits\n",
    "\n",
    "<img src=\"fig1.png\">"
   ]
  },
  {
   "cell_type": "markdown",
   "metadata": {
    "slideshow": {
     "slide_type": "subslide"
    }
   },
   "source": [
    "# VQE on $H_2$\n",
    "<img src=\"fig2.png\">"
   ]
  },
  {
   "cell_type": "markdown",
   "metadata": {
    "slideshow": {
     "slide_type": "slide"
    }
   },
   "source": [
    "#  More details on Mitiq"
   ]
  },
  {
   "cell_type": "markdown",
   "metadata": {
    "slideshow": {
     "slide_type": "slide"
    }
   },
   "source": [
    "## Supported quantum software libraries"
   ]
  },
  {
   "cell_type": "markdown",
   "metadata": {
    "slideshow": {
     "slide_type": "fragment"
    }
   },
   "source": [
    "Although we wrote our circuit in Qiskit, we could also use pyQuil or Cirq."
   ]
  },
  {
   "cell_type": "code",
   "execution_count": 9,
   "metadata": {
    "slideshow": {
     "slide_type": "subslide"
    }
   },
   "outputs": [
    {
     "name": "stdout",
     "output_type": "stream",
     "text": [
      "Qiskit circuit:\n",
      "       ┌───┐     \n",
      "q31_0: ┤ H ├──■──\n",
      "       └───┘┌─┴─┐\n",
      "q31_1: ─────┤ X ├\n",
      "            └───┘\n",
      "\n",
      "\n",
      "Cirq circuit:\n",
      "0: ───H───@───\n",
      "          │\n",
      "1: ───────X───\n",
      "\n",
      "\n",
      "pyQuil program:\n",
      "H 0\n",
      "CNOT 0 1\n",
      "\n"
     ]
    }
   ],
   "source": [
    "\"\"\"Defining a Bell state circuit in each supported framework.\"\"\"\n",
    "# Qiskit circuit\n",
    "qreg = qiskit.QuantumRegister(2)\n",
    "circ = qiskit.QuantumCircuit(qreg)\n",
    "circ.h(qreg[0])\n",
    "circ.cx(*qreg)\n",
    "print(\"Qiskit circuit:\", circ, sep=\"\\n\")\n",
    "\n",
    "# Cirq circuit\n",
    "cirq_qreg = cirq.LineQubit.range(2)\n",
    "cirq_circ = cirq.Circuit(cirq.ops.H.on(cirq_qreg[0]), cirq.ops.CNOT.on(*cirq_qreg))\n",
    "print(\"\\n\\nCirq circuit:\", cirq_circ, sep=\"\\n\")\n",
    "\n",
    "# pyQuil program\n",
    "prog = pyquil.Program(pyquil.gates.H(0), pyquil.gates.CNOT(0, 1))\n",
    "print(\"\\n\\npyQuil program:\", prog, sep=\"\\n\")"
   ]
  },
  {
   "cell_type": "markdown",
   "metadata": {
    "slideshow": {
     "slide_type": "slide"
    }
   },
   "source": [
    "## Noise scaling"
   ]
  },
  {
   "cell_type": "markdown",
   "metadata": {
    "slideshow": {
     "slide_type": "fragment"
    }
   },
   "source": [
    "One technique for noise scaling is unitary folding. This maps gates (or groups of gates $G$) to $G \\mapsto G G^\\dagger G$. There are several folding functions in Mitiq."
   ]
  },
  {
   "cell_type": "code",
   "execution_count": 10,
   "metadata": {
    "slideshow": {
     "slide_type": "subslide"
    }
   },
   "outputs": [
    {
     "name": "stdout",
     "output_type": "stream",
     "text": [
      "Folded circuit:\n",
      "     ┌───┐┌───┐┌───┐     \n",
      "q_0: ┤ H ├┤ H ├┤ H ├──■──\n",
      "     └───┘└───┘└───┘┌─┴─┐\n",
      "q_1: ───────────────┤ X ├\n",
      "                    └───┘\n"
     ]
    }
   ],
   "source": [
    "\"\"\"Local folding from left.\"\"\"\n",
    "folded = zne.scaling.fold_gates_from_left(\n",
    "    circ, scale_factor=2\n",
    ")\n",
    "print(\"Folded circuit:\", folded, sep=\"\\n\")"
   ]
  },
  {
   "cell_type": "code",
   "execution_count": 11,
   "metadata": {
    "slideshow": {
     "slide_type": "subslide"
    }
   },
   "outputs": [
    {
     "name": "stdout",
     "output_type": "stream",
     "text": [
      "Folded circuit:\n",
      "     ┌───┐               \n",
      "q_0: ┤ H ├──■────■────■──\n",
      "     └───┘┌─┴─┐┌─┴─┐┌─┴─┐\n",
      "q_1: ─────┤ X ├┤ X ├┤ X ├\n",
      "          └───┘└───┘└───┘\n"
     ]
    }
   ],
   "source": [
    "\"\"\"Local folding from right.\"\"\"\n",
    "folded = zne.scaling.fold_gates_from_right(\n",
    "    circ, scale_factor=2\n",
    ")\n",
    "print(\"Folded circuit:\", folded, sep=\"\\n\")"
   ]
  },
  {
   "cell_type": "code",
   "execution_count": 12,
   "metadata": {
    "scrolled": true,
    "slideshow": {
     "slide_type": "subslide"
    }
   },
   "outputs": [
    {
     "name": "stdout",
     "output_type": "stream",
     "text": [
      "Folded circuit:\n",
      "     ┌───┐          ┌───┐┌───┐     \n",
      "q_0: ┤ H ├──■────■──┤ H ├┤ H ├──■──\n",
      "     └───┘┌─┴─┐┌─┴─┐└───┘└───┘┌─┴─┐\n",
      "q_1: ─────┤ X ├┤ X ├──────────┤ X ├\n",
      "          └───┘└───┘          └───┘\n"
     ]
    }
   ],
   "source": [
    "\"\"\"Global folding.\"\"\"\n",
    "folded = zne.scaling.fold_global(\n",
    "    circ, scale_factor=3\n",
    ")\n",
    "print(\"Folded circuit:\", folded, sep=\"\\n\")"
   ]
  },
  {
   "cell_type": "markdown",
   "metadata": {
    "slideshow": {
     "slide_type": "subslide"
    }
   },
   "source": [
    "The function `zne.scaling.fold_gates_at_random` selects individual gates at random to fold until the scale factor is reached."
   ]
  },
  {
   "cell_type": "markdown",
   "metadata": {
    "slideshow": {
     "slide_type": "slide"
    }
   },
   "source": [
    "### Fold by fidelity"
   ]
  },
  {
   "cell_type": "raw",
   "metadata": {
    "slideshow": {
     "slide_type": "fragment"
    }
   },
   "source": [
    "Known or approximate gate fidelities can be passed as an optional argument to folding functions. This puts more weight on noisier gates when folding."
   ]
  },
  {
   "cell_type": "code",
   "execution_count": 13,
   "metadata": {
    "scrolled": true,
    "slideshow": {
     "slide_type": "fragment"
    }
   },
   "outputs": [
    {
     "name": "stdout",
     "output_type": "stream",
     "text": [
      "Original circuit:\n",
      "0: ───×───────iSwap───\n",
      "      │       │\n",
      "1: ───×───T───iSwap───\n",
      "\n",
      "2: ───Y───S───iSwap───\n",
      "              │\n",
      "3: ───H───X───iSwap───\n"
     ]
    }
   ],
   "source": [
    "\"\"\"Get a circuit to fold.\"\"\"\n",
    "circuit = cirq.testing.random_circuit(qubits=4, n_moments=3, op_density=1.0, random_state=2)\n",
    "print(\"Original circuit:\", circuit, sep=\"\\n\")"
   ]
  },
  {
   "cell_type": "markdown",
   "metadata": {
    "slideshow": {
     "slide_type": "subslide"
    }
   },
   "source": [
    "We can set all single qubit fidelities to one as follows."
   ]
  },
  {
   "cell_type": "code",
   "execution_count": 14,
   "metadata": {
    "slideshow": {
     "slide_type": "fragment"
    }
   },
   "outputs": [
    {
     "name": "stdout",
     "output_type": "stream",
     "text": [
      "Folded circuit:\n",
      "0: ───×───×───×──────────────────iSwap───iSwap──────iSwap───\n",
      "      │   │   │                  │       │          │\n",
      "1: ───×───×───×───────T──────────iSwap───iSwap^-1───iSwap───\n",
      "\n",
      "2: ───Y───S───iSwap───iSwap──────iSwap──────────────────────\n",
      "              │       │          │\n",
      "3: ───H───X───iSwap───iSwap^-1───iSwap──────────────────────\n"
     ]
    }
   ],
   "source": [
    "\"\"\"Fold by fidelity.\"\"\"\n",
    "folded = zne.scaling.fold_gates_at_random(\n",
    "    circuit, scale_factor=3, fidelities={\"single\": 1.0}\n",
    ")\n",
    "print(\"Folded circuit:\", folded, sep=\"\\n\")"
   ]
  },
  {
   "cell_type": "markdown",
   "metadata": {
    "slideshow": {
     "slide_type": "fragment"
    }
   },
   "source": [
    "This prevents any single qubit gates from being folded. See the [docs](https://mitiq.readthedocs.io/en/latest/guide/guide-zne.html#folding-gates-by-fidelity) for full information and options."
   ]
  },
  {
   "cell_type": "markdown",
   "metadata": {
    "slideshow": {
     "slide_type": "slide"
    }
   },
   "source": [
    "## Inference techniques"
   ]
  },
  {
   "cell_type": "markdown",
   "metadata": {
    "slideshow": {
     "slide_type": "fragment"
    }
   },
   "source": [
    "Some static inference techniques available in Mitiq are shown below. These all can be used as `factory` arguments in `zne.execute_with_zne`."
   ]
  },
  {
   "cell_type": "code",
   "execution_count": 15,
   "metadata": {
    "slideshow": {
     "slide_type": "fragment"
    }
   },
   "outputs": [],
   "source": [
    "\"\"\"Static inference techniques.\"\"\"\n",
    "# Linear extrapolation: y = a x + b\n",
    "linear_factory = zne.inference.LinearFactory(scale_factors=[1.0, 2.0, 3.0])\n",
    "\n",
    "# Quadratic extrapolation: y = a x^2 + b x + c\n",
    "quadratic_factory = zne.inference.PolyFactory(scale_factors=[1.0, 2.0, 3.0], order=2)\n",
    "\n",
    "# Exponential extrapolation: y = a e^{b x + c}\n",
    "exp_factory = zne.inference.ExpFactory(scale_factors=[1.0, 2.0, 3.0], asymptote=0.5)"
   ]
  },
  {
   "cell_type": "markdown",
   "metadata": {
    "slideshow": {
     "slide_type": "subslide"
    }
   },
   "source": [
    "An adaptive inference technique is shown below. This technique inputs the first scale factor and the total number of scale factors to use. The remaining ones are determined adaptively based on previous calls to the executor."
   ]
  },
  {
   "cell_type": "code",
   "execution_count": 16,
   "metadata": {
    "slideshow": {
     "slide_type": "fragment"
    }
   },
   "outputs": [],
   "source": [
    "\"\"\"Adaptive inference technique.\"\"\"\n",
    "ada_exp_factory = zne.inference.AdaExpFactory(scale_factor=2, steps=5)"
   ]
  },
  {
   "cell_type": "markdown",
   "metadata": {
    "slideshow": {
     "slide_type": "skip"
    }
   },
   "source": [
    "### Optimal fit parameters and history"
   ]
  },
  {
   "cell_type": "markdown",
   "metadata": {
    "slideshow": {
     "slide_type": "skip"
    }
   },
   "source": [
    "When used as arguments in `zne.execute_with_zne`, factories store the optimal parameters of the fit. These can be accessed by the `opt_params` attribute. *Note*: `opt_params` is `None` until the `reduce` method is called (by `zne.execute_with_zne` or otherwise)."
   ]
  },
  {
   "cell_type": "markdown",
   "metadata": {
    "slideshow": {
     "slide_type": "slide"
    }
   },
   "source": [
    "# Custom noise scaling or inference techniques"
   ]
  },
  {
   "cell_type": "markdown",
   "metadata": {
    "slideshow": {
     "slide_type": "subslide"
    }
   },
   "source": [
    "## Custom noise scaling functions"
   ]
  },
  {
   "cell_type": "markdown",
   "metadata": {
    "slideshow": {
     "slide_type": "fragment"
    }
   },
   "source": [
    "Custom noise scaling functions can be defined for use in Mitiq. The skeleton of custom noise scaling functions must be as follows."
   ]
  },
  {
   "cell_type": "code",
   "execution_count": 17,
   "metadata": {
    "slideshow": {
     "slide_type": "fragment"
    }
   },
   "outputs": [],
   "source": [
    "\"\"\"Skeleton for a custom noise scaling method.\"\"\"\n",
    "from copy import deepcopy\n",
    "\n",
    "@mitiq.conversions.converter\n",
    "def my_scaling_method(\n",
    "    circuit: cirq.Circuit, \n",
    "    scale_factor: float, \n",
    "    *args, \n",
    "    **kwargs\n",
    ") -> cirq.Circuit:\n",
    "    \"\"\"Skeleton for a custom folding function.\"\"\"\n",
    "    # Optional but recommended: Make a copy of the input circuit\n",
    "    folded_circuit = deepcopy(circuit)\n",
    "    \n",
    "    # Define the folding method here by modifying operations in the circuit\n",
    "    # <Act on operations in folded_circuit>\n",
    "    \n",
    "    # Return the folded circuit\n",
    "    return folded_circuit"
   ]
  },
  {
   "cell_type": "markdown",
   "metadata": {
    "slideshow": {
     "slide_type": "skip"
    }
   },
   "source": [
    "The `mitiq.conversions.converter` makes it so any supported circuit can be input to the function. The body of the function should still act on a `cirq.Circuit`, however."
   ]
  },
  {
   "cell_type": "markdown",
   "metadata": {
    "slideshow": {
     "slide_type": "subslide"
    }
   },
   "source": [
    "## Custom inference techniques"
   ]
  },
  {
   "cell_type": "markdown",
   "metadata": {
    "slideshow": {
     "slide_type": "fragment"
    }
   },
   "source": [
    "An example custom inference technique is defined below. This fits a quadratic function to the data (scale factors and expectation values), then forces the ZNE value to be in the interval `[-1, 1]`. "
   ]
  },
  {
   "cell_type": "code",
   "execution_count": 18,
   "metadata": {
    "slideshow": {
     "slide_type": "fragment"
    }
   },
   "outputs": [],
   "source": [
    "\"\"\"Skeleton for a custom inference technique.\"\"\"\n",
    "import numpy as np\n",
    "from mitiq.zne.inference import BatchedFactory\n",
    "\n",
    "class MyFactory(BatchedFactory):\n",
    "    def reduce(self) -> float:\n",
    "        \"\"\"Skeleton for a custom (static) inference technique.\"\"\"\n",
    "        # Get scale factors and expection values\n",
    "        scale_factors = self.get_scale_factors()\n",
    "        exp_vals = self.get_expectation_values()\n",
    "        \n",
    "        # Define the custom fit here!\n",
    "        coeffs = np.polyfit(scale_factors, exp_vals, deg=2)\n",
    "        zne_value = coeffs[-1]\n",
    "        \n",
    "        # Return the zero-noise value\n",
    "        return np.clip(zne_value, -1.0, 1.0)"
   ]
  },
  {
   "cell_type": "markdown",
   "metadata": {
    "slideshow": {
     "slide_type": "skip"
    }
   },
   "source": [
    "Note that one can include `self.opt_params = coeffs` in the body of `reduce` to store the optimal parameters."
   ]
  },
  {
   "cell_type": "markdown",
   "metadata": {
    "slideshow": {
     "slide_type": "slide"
    }
   },
   "source": [
    "# Thanks for listening!\n",
    "\n",
    "Interested in Mitiq?\n",
    "\n",
    "- Mitiq GitHub: https://github.com/unitaryfund/mitiq\n",
    "- Mitiq Documentation: https://mitiq.readthedocs.io\n",
    "- Contact: ryan@unitary.fund"
   ]
  }
 ],
 "metadata": {
  "celltoolbar": "Slideshow",
  "kernelspec": {
   "display_name": "envfreshqiskit",
   "language": "python",
   "name": "envfreshqiskit"
  },
  "language_info": {
   "codemirror_mode": {
    "name": "ipython",
    "version": 3
   },
   "file_extension": ".py",
   "mimetype": "text/x-python",
   "name": "python",
   "nbconvert_exporter": "python",
   "pygments_lexer": "ipython3",
   "version": "3.6.8"
  }
 },
 "nbformat": 4,
 "nbformat_minor": 4
}

{
 "cells": [
  {
   "cell_type": "code",
   "execution_count": null,
   "metadata": {},
   "outputs": [],
   "source": [
    "import mitiq"
   ]
  },
  {
   "cell_type": "markdown",
   "metadata": {},
   "source": [
    "## Challenge 1: define a benchmarking circuit\n",
    "\n",
    "Create a Clifford+T circuit\n"
   ]
  },
  {
   "cell_type": "code",
   "execution_count": null,
   "metadata": {},
   "outputs": [],
   "source": [
    "ct = ...\n",
    "print(ct)"
   ]
  },
  {
   "cell_type": "markdown",
   "metadata": {},
   "source": [
    "## Challenge 2: convert the ciruit to qiskit\n",
    "\n",
    "By default, benchmarking circuits are instantiated as `cirq.Circuit` objects. Convert the circuit to a `qiskit.QuantumCircuit` object.\n"
   ]
  },
  {
   "cell_type": "code",
   "execution_count": null,
   "metadata": {},
   "outputs": [],
   "source": [
    "qiskit_ct = ...\n",
    "print(qiskit_ct)"
   ]
  },
  {
   "cell_type": "markdown",
   "metadata": {},
   "source": [
    "## Challenge 3: define a pauli string\n"
   ]
  },
  {
   "cell_type": "code",
   "execution_count": null,
   "metadata": {},
   "outputs": [],
   "source": [
    "ps = ...\n",
    "print(ps)"
   ]
  },
  {
   "cell_type": "markdown",
   "metadata": {},
   "source": [
    "## Challenge 4: define simultaneously measurable pauli strings\n",
    "\n",
    "Define a pauli string that can be measured simultaneously with the above `PauliString` object.\n"
   ]
  },
  {
   "cell_type": "code",
   "execution_count": null,
   "metadata": {},
   "outputs": [],
   "source": [
    "ps2 = ...\n",
    "\n",
    "ps.can_be_measured_with(ps2)"
   ]
  },
  {
   "cell_type": "markdown",
   "metadata": {},
   "source": [
    "## Challenge 5: find the pauli string with a specific matrix\n",
    "\n",
    "What pauli string defines the following matrix\n",
    "\n",
    "$$\n",
    "\\begin{bmatrix}\n",
    "    0 & 0  & 0 & -i \\\\\n",
    "    0 & 0  & i & 0  \\\\\n",
    "    0 & -i & 0 & 0  \\\\\n",
    "    i & 0  & 0 & 0  \\\\\n",
    "\\end{bmatrix}\n",
    "$$\n"
   ]
  },
  {
   "cell_type": "code",
   "execution_count": null,
   "metadata": {},
   "outputs": [],
   "source": [
    "ps = ...\n",
    "ps.matrix()"
   ]
  },
  {
   "cell_type": "markdown",
   "metadata": {},
   "source": [
    "## Challenge 6: measure pauli strings in a circuit\n",
    "\n",
    "using the clifford+T circuit defined in challenge 1, measure two pauli strings in it.\n"
   ]
  },
  {
   "cell_type": "code",
   "execution_count": null,
   "metadata": {},
   "outputs": [],
   "source": [
    "obs = mitiq.Observable(...)\n",
    "\n",
    "obs.measure_in(ct)"
   ]
  },
  {
   "cell_type": "markdown",
   "metadata": {},
   "source": [
    "## Challenge 7: measure pauli strings in a circuit simultaneously\n",
    "\n",
    "Define two pauli strings that can be simultaneously measured.\n"
   ]
  },
  {
   "cell_type": "code",
   "execution_count": null,
   "metadata": {},
   "outputs": [],
   "source": [
    "obs = mitiq.Observable(...)\n",
    "\n",
    "obs.measure_in(ct)"
   ]
  },
  {
   "cell_type": "markdown",
   "metadata": {},
   "source": [
    "## Challenge 8: create a `MeasurementResult` object\n",
    "\n",
    "You've run an experiment, and received the following dictionary back with the counts. Convert it to a `mitiq.MeasurementResult` object.\n"
   ]
  },
  {
   "cell_type": "code",
   "execution_count": null,
   "metadata": {},
   "outputs": [],
   "source": [
    "bitstring_counts = {\n",
    "    \"0001\": 70,\n",
    "    \"0010\": 51,\n",
    "    \"0100\": 68,\n",
    "    \"1001\": 437,\n",
    "    \"0110\": 374\n",
    "}\n",
    "mr = ..."
   ]
  },
  {
   "cell_type": "markdown",
   "metadata": {},
   "source": [
    "## Challenge 9: convert counts to a probability distribution\n",
    "\n",
    "instead of a dictionary mapping bitstrings to counts, create a dictionary mapping bitstrings to probabilities of measuring said bitstring. Test your answer by comparing to the `prob_distribution` method of your `MeasurementResult` object.\n"
   ]
  },
  {
   "cell_type": "code",
   "execution_count": null,
   "metadata": {},
   "outputs": [],
   "source": [
    "distribution = ...\n",
    "\n",
    "distribution == mr.prob_distribution()"
   ]
  },
  {
   "cell_type": "markdown",
   "metadata": {},
   "source": [
    "## Challenge 10: Post selecting with a symmetry condition\n",
    "\n",
    "Select (programatically) bitstrings which are palindromes.\n"
   ]
  },
  {
   "cell_type": "code",
   "execution_count": null,
   "metadata": {},
   "outputs": [],
   "source": [
    "from mitiq.rem import post_select # can remove\n",
    "\n",
    "nmr = ..."
   ]
  },
  {
   "cell_type": "markdown",
   "metadata": {},
   "source": [
    "## Challenge 11: total variation distance\n",
    "\n",
    "Compute the [total variation distance](https://en.wikipedia.org/wiki/Total_variation_distance_of_probability_measures) between the pre and post-selected measurement results.\n"
   ]
  },
  {
   "cell_type": "code",
   "execution_count": null,
   "metadata": {},
   "outputs": [],
   "source": [
    "import itertools\n",
    "\n",
    "def generate_bitstrings(length):\n",
    "    return [''.join(bits) for bits in itertools.product('01', repeat=length)]\n",
    "\n",
    "pre_dist = mr.prob_distribution()\n",
    "post_dist = nmr.prob_distribution()\n",
    "\n",
    "tvd = 0\n",
    "...\n",
    "\n",
    "print(tvd)"
   ]
  },
  {
   "cell_type": "markdown",
   "metadata": {},
   "source": [
    "## Challenge 12: global folding\n",
    "\n",
    "Fold the following circuit globally. That is, construct a new circuit whose operation is $UU^\\dag U$ where $U$ is the operation of the entire circuit.\n"
   ]
  },
  {
   "cell_type": "code",
   "execution_count": null,
   "metadata": {},
   "outputs": [],
   "source": [
    "circuit = mitiq.benchmarks.generate_rb_circuits(2, 1)[0]\n",
    "print(circuit)\n",
    "\n",
    "folded_circuit = ...\n",
    "print(folded_circuit)"
   ]
  },
  {
   "cell_type": "markdown",
   "metadata": {},
   "source": [
    "## Challenge 13: non-integer folding\n",
    "\n",
    "Using a folding technique to increase the circuits depth by 2.\n"
   ]
  },
  {
   "cell_type": "code",
   "execution_count": null,
   "metadata": {},
   "outputs": [],
   "source": [
    "double_depth = ...\n",
    "\n",
    "print(double_depth)"
   ]
  },
  {
   "cell_type": "markdown",
   "metadata": {},
   "source": [
    "## Challenge 14: gate folding\n",
    "\n",
    "Suppose all your noise comes from two-qubit gates and you'd like to target them in the folding. Construct a folded circuit where you exclude single qubit gates from being folded.\n"
   ]
  },
  {
   "cell_type": "code",
   "execution_count": null,
   "metadata": {},
   "outputs": [],
   "source": [
    "two_qubit_folded = ...\n",
    "\n",
    "print(two_qubit_folded)"
   ]
  },
  {
   "cell_type": "markdown",
   "metadata": {},
   "source": [
    "## Challenge 15: Pauli twirling\n",
    "\n",
    "Generate 100 Pauli twirled variants of a GHZ circuit on 3 qubits. How many of them are unique?\n"
   ]
  },
  {
   "cell_type": "code",
   "execution_count": null,
   "metadata": {},
   "outputs": [],
   "source": [
    "circuit = ...\n",
    "\n",
    "pauli_twirled_versions = ...\n",
    "\n",
    "# compute num unique"
   ]
  },
  {
   "cell_type": "markdown",
   "metadata": {},
   "source": [
    "## Challenge 16: Pauli twirling gates addition\n",
    "\n",
    "How many more gates do the variants contain than the original circuit?\n"
   ]
  },
  {
   "cell_type": "code",
   "execution_count": null,
   "metadata": {},
   "outputs": [],
   "source": []
  },
  {
   "cell_type": "markdown",
   "metadata": {},
   "source": [
    "## Challenge 17: Digital dynamical decoupling: XX\n",
    "\n",
    "Insert an $XX$ sequence in a circuit (you define this).\n"
   ]
  },
  {
   "cell_type": "code",
   "execution_count": null,
   "metadata": {},
   "outputs": [],
   "source": []
  }
 ],
 "metadata": {
  "kernelspec": {
   "display_name": "Python 3",
   "language": "python",
   "name": "python3"
  },
  "language_info": {
   "codemirror_mode": {
    "name": "ipython",
    "version": 3
   },
   "file_extension": ".py",
   "mimetype": "text/x-python",
   "name": "python",
   "nbconvert_exporter": "python",
   "pygments_lexer": "ipython3",
   "version": "3.11.9"
  }
 },
 "nbformat": 4,
 "nbformat_minor": 2
}
